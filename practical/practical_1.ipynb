{
 "cells": [
  {
   "cell_type": "markdown",
   "id": "e39f38a6",
   "metadata": {},
   "source": [
    "# 1. Image Informatics - Lab 1\n",
    "## 1.1 Numpy\n",
    "### 1.1.1 The Basics"
   ]
  },
  {
   "cell_type": "code",
   "execution_count": 3,
   "id": "7e942bc7",
   "metadata": {},
   "outputs": [
    {
     "name": "stdout",
     "output_type": "stream",
     "text": [
      "[[1 2 3]\n",
      " [4 5 6]]\n",
      "int64\n",
      "(2, 3)\n",
      "6\n",
      "2\n"
     ]
    }
   ],
   "source": [
    "import numpy as np\n",
    "\n",
    "a = np.array([[1, 2, 3], [4, 5, 6]])\n",
    "print(a)\n",
    "print(a.dtype)\n",
    "print(a.shape)\n",
    "print(a.size)\n",
    "print(a.ndim)"
   ]
  },
  {
   "cell_type": "markdown",
   "id": "581beebd",
   "metadata": {},
   "source": [
    "### 1.1.2 Array Creation"
   ]
  },
  {
   "cell_type": "code",
   "execution_count": 5,
   "id": "48f83f81",
   "metadata": {},
   "outputs": [
    {
     "name": "stdout",
     "output_type": "stream",
     "text": [
      "[[0. 0. 0. 0.]\n",
      " [0. 0. 0. 0.]\n",
      " [0. 0. 0. 0.]]\n",
      "(3, 4)\n",
      "[[1. 1. 1. 1.]\n",
      " [1. 1. 1. 1.]\n",
      " [1. 1. 1. 1.]]\n"
     ]
    }
   ],
   "source": [
    "a = np.zeros((3, 4))\n",
    "print(a)\n",
    "print(a.shape)\n",
    "\n",
    "a = np.ones((3, 4))\n",
    "print(a)"
   ]
  },
  {
   "cell_type": "code",
   "execution_count": 6,
   "id": "378749b9",
   "metadata": {},
   "outputs": [
    {
     "name": "stdout",
     "output_type": "stream",
     "text": [
      "[[[1 1 1 1]\n",
      "  [1 1 1 1]\n",
      "  [1 1 1 1]]\n",
      "\n",
      " [[1 1 1 1]\n",
      "  [1 1 1 1]\n",
      "  [1 1 1 1]]]\n",
      "int16\n"
     ]
    }
   ],
   "source": [
    "a = np.ones((2,3,4), dtype=np.int16)\n",
    "print(a)\n",
    "print(a.dtype)"
   ]
  },
  {
   "cell_type": "markdown",
   "id": "5e89ace1",
   "metadata": {},
   "source": [
    "### 1.1.3 Basic Operations"
   ]
  },
  {
   "cell_type": "code",
   "execution_count": 7,
   "id": "fc447f08",
   "metadata": {},
   "outputs": [
    {
     "name": "stdout",
     "output_type": "stream",
     "text": [
      "[20 30 40 50]\n",
      "[0 1 2 3]\n",
      "[20 29 38 47]\n",
      "[ True  True False False]\n"
     ]
    }
   ],
   "source": [
    "a = np.array([20,30,40,50])\n",
    "b = np.arange(4)\n",
    "print(a)\n",
    "print(b)\n",
    "\n",
    "c = a-b\n",
    "print(c)\n",
    "\n",
    "d = a<35\n",
    "print(d)"
   ]
  },
  {
   "cell_type": "code",
   "execution_count": 8,
   "id": "732ed24c",
   "metadata": {},
   "outputs": [
    {
     "name": "stdout",
     "output_type": "stream",
     "text": [
      "[[1 1]\n",
      " [0 1]]\n",
      "[[2 0]\n",
      " [3 4]]\n",
      "[[2 0]\n",
      " [0 4]]\n"
     ]
    }
   ],
   "source": [
    "a = np.array([[1,1], [0,1]])\n",
    "b = np.array([[2,0], [3,4]])\n",
    "print(a)\n",
    "print(b)\n",
    "\n",
    "c = a*b # elementwise product\n",
    "print(c)"
   ]
  },
  {
   "cell_type": "markdown",
   "id": "c15d4436",
   "metadata": {},
   "source": [
    "### 1.1.4 Universal Functions"
   ]
  },
  {
   "cell_type": "code",
   "execution_count": 10,
   "id": "88fdc11b",
   "metadata": {},
   "outputs": [
    {
     "name": "stdout",
     "output_type": "stream",
     "text": [
      "[0 1 2]\n",
      "[1.         2.71828183 7.3890561 ]\n",
      "[0.         1.         1.41421356]\n"
     ]
    }
   ],
   "source": [
    "a = np.arange(3)\n",
    "print(a)\n",
    "\n",
    "b = np.exp(a)\n",
    "print(b)\n",
    "\n",
    "c = np.sqrt(a)\n",
    "print(c)"
   ]
  },
  {
   "cell_type": "markdown",
   "id": "cc6d7db8",
   "metadata": {},
   "source": [
    "### 1.1.5 Indexing, Slicing and Iterating"
   ]
  },
  {
   "cell_type": "code",
   "execution_count": 12,
   "id": "e80828ea",
   "metadata": {},
   "outputs": [
    {
     "name": "stdout",
     "output_type": "stream",
     "text": [
      "[  0   1   8  27  64 125 216 343 512 729]\n",
      "8\n",
      "[ 8 27 64]\n",
      "[1000    1 1000   27 1000  125  216  343  512  729]\n",
      "[ 729  512  343  216  125 1000   27 1000    1 1000]\n",
      "9.999999999999998\n",
      "1.0\n",
      "9.999999999999998\n",
      "3.0\n",
      "9.999999999999998\n",
      "4.999999999999999\n",
      "5.999999999999999\n",
      "6.999999999999999\n",
      "7.999999999999999\n",
      "8.999999999999998\n"
     ]
    }
   ],
   "source": [
    "a = np.arange(10)**3\n",
    "print(a)\n",
    "print(a[2])\n",
    "print(a[2:5])\n",
    "\n",
    "a[:6:2] = 1000\n",
    "print(a)\n",
    "\n",
    "print(a[ : :-1])\n",
    "\n",
    "for i in a:\n",
    "    print(i**(1/3.))"
   ]
  },
  {
   "cell_type": "code",
   "execution_count": 13,
   "id": "54e75ecd",
   "metadata": {},
   "outputs": [
    {
     "name": "stdout",
     "output_type": "stream",
     "text": [
      "[[0.56851581 0.95083066 0.19717293 0.48777726]\n",
      " [0.27439461 0.73324065 0.33000387 0.83262773]\n",
      " [0.36278872 0.40521821 0.72379951 0.07549535]\n",
      " [0.92488543 0.40490892 0.61885165 0.32070014]\n",
      " [0.19488299 0.9352106  0.06853288 0.68914521]]\n",
      "0.723799514185011\n",
      "[0.19717293 0.33000387]\n",
      "[0.19717293 0.33000387 0.72379951 0.61885165 0.06853288]\n",
      "[[0.27439461 0.73324065 0.33000387 0.83262773]\n",
      " [0.36278872 0.40521821 0.72379951 0.07549535]]\n",
      "[0.19488299 0.9352106  0.06853288 0.68914521]\n"
     ]
    }
   ],
   "source": [
    "a = np.random.rand(5,4)\n",
    "print(a)\n",
    "print(a[2,2])\n",
    "print(a[0:2,2])\n",
    "print(a[:,2])\n",
    "print(a[1:3,:])\n",
    "print(a[-1])"
   ]
  },
  {
   "cell_type": "markdown",
   "id": "8f5702a9",
   "metadata": {},
   "source": [
    "### 1.1.6 Indexing with Boolean Arrays"
   ]
  },
  {
   "cell_type": "code",
   "execution_count": 15,
   "id": "52ff2fd5",
   "metadata": {},
   "outputs": [
    {
     "name": "stdout",
     "output_type": "stream",
     "text": [
      "[[False False False False]\n",
      " [False  True  True  True]\n",
      " [ True  True  True  True]]\n",
      "[ 5  6  7  8  9 10 11]\n"
     ]
    }
   ],
   "source": [
    "a = np.arange(12).reshape(3,4)\n",
    "b = a > 4\n",
    "print(b)\n",
    "\n",
    "c = a[b]\n",
    "print(c)"
   ]
  },
  {
   "cell_type": "markdown",
   "id": "9aeccdb0",
   "metadata": {},
   "source": [
    "## Pyplot\n",
    "### 1.2.1 Basics"
   ]
  },
  {
   "cell_type": "code",
   "execution_count": 17,
   "id": "affa0174",
   "metadata": {},
   "outputs": [
    {
     "data": {
      "image/png": "[encoded data removed]",
      "text/plain": [
       "<Figure size 640x480 with 1 Axes>"
      ]
     },
     "metadata": {},
     "output_type": "display_data"
    }
   ],
   "source": [
    "import matplotlib.pyplot as plt\n",
    "\n",
    "plt.plot([1, 2, 3, 4])\n",
    "plt.ylabel('some numbers')\n",
    "plt.show()"
   ]
  }
 ],
 "metadata": {
  "kernelspec": {
   "display_name": "Python 3",
   "language": "python",
   "name": "python3"
  },
  "language_info": {
   "codemirror_mode": {
    "name": "ipython",
    "version": 3
   },
   "file_extension": ".py",
   "mimetype": "text/x-python",
   "name": "python",
   "nbconvert_exporter": "python",
   "pygments_lexer": "ipython3",
   "version": "3.13.3"
  }
 },
 "nbformat": 4,
 "nbformat_minor": 5
}
