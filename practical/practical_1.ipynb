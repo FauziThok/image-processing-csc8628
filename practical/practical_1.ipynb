{
 "cells": [
  {
   "cell_type": "markdown",
   "id": "e39f38a6",
   "metadata": {},
   "source": [
    "# 1. Image Informatics - Lab 1\n",
    "## Numpy\n",
    "### The Basics"
   ]
  },
  {
   "cell_type": "code",
   "execution_count": null,
   "id": "7e942bc7",
   "metadata": {},
   "outputs": [],
   "source": [
    "import numpy as np\n",
    "\n",
    "a = np.array([[1, 2, 3], [4, 5, 6]]\n",
    "print(a)\n",
    "print(a.dtype)\n",
    "print(a.shape)\n",
    "print(a.size)\n",
    "print(a.ndim)"
   ]
  }
 ],
 "metadata": {
  "kernelspec": {
   "display_name": "Python 3",
   "language": "python",
   "name": "python3"
  },
  "language_info": {
   "name": "python",
   "version": "3.13.3"
  }
 },
 "nbformat": 4,
 "nbformat_minor": 5
}
